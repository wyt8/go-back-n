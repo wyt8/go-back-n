{
 "cells": [
  {
   "cell_type": "code",
   "execution_count": 10,
   "metadata": {},
   "outputs": [
    {
     "name": "stdout",
     "output_type": "stream",
     "text": [
      "通信总次数 35811\n",
      "超时次数 685\n",
      "重传次数 0\n",
      "PDU总数量 35126\n",
      "总时间 17494 ms\n"
     ]
    }
   ],
   "source": [
    "log_file_name = \"log-client-1713976540162.txt\"\n",
    "\n",
    "lines = []\n",
    "timeout_num = 0 # 超时次数\n",
    "repeat_num = 0 # 重传次数\n",
    "with open(log_file_name, \"r\") as file:\n",
    "    lines = file.readlines()\n",
    "\n",
    "for line in lines:\n",
    "    if line.find(\"status=TO\") != -1:\n",
    "        timeout_num += 1\n",
    "    elif line.find(\"status=RT\") != -1:\n",
    "        repeat_num += 1\n",
    "\n",
    "print(f\"通信总次数 {len(lines)}\")\n",
    "print(f\"超时次数 {timeout_num}\")\n",
    "print(f\"重传次数 {repeat_num}\")\n",
    "print(f\"PDU总数量 {len(lines) - timeout_num - repeat_num}\")\n",
    "total_time = int(lines[-1][1:14]) - int(lines[0][1:14])\n",
    "print(f\"总时间 {total_time} ms\")"
   ]
  }
 ],
 "metadata": {
  "kernelspec": {
   "display_name": "Python 3",
   "language": "python",
   "name": "python3"
  },
  "language_info": {
   "codemirror_mode": {
    "name": "ipython",
    "version": 3
   },
   "file_extension": ".py",
   "mimetype": "text/x-python",
   "name": "python",
   "nbconvert_exporter": "python",
   "pygments_lexer": "ipython3",
   "version": "3.12.2"
  }
 },
 "nbformat": 4,
 "nbformat_minor": 2
}
